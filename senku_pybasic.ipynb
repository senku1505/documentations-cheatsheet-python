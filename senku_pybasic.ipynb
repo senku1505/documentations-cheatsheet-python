{
  "nbformat": 4,
  "nbformat_minor": 0,
  "metadata": {
    "colab": {
      "provenance": [],
      "collapsed_sections": [
        "ZG_2op2Drwrj",
        "4v_f_7E5rrXX",
        "dvDlb95JrnLf",
        "npMJ-Riis3aq",
        "12F2PcNU6bKd",
        "UDdI4DlQAxSq",
        "7tWov9KkCsfX"
      ]
    },
    "kernelspec": {
      "name": "python3",
      "display_name": "Python 3"
    },
    "language_info": {
      "name": "python"
    }
  },
  "cells": [
    {
      "cell_type": "markdown",
      "source": [
        "### **bunch of python stuff I might need to revise once in a while.**"
      ],
      "metadata": {
        "id": "53Ej9HqE_v-Y"
      }
    },
    {
      "cell_type": "markdown",
      "source": [
        "# BASIC INFO 101"
      ],
      "metadata": {
        "id": "ZG_2op2Drwrj"
      }
    },
    {
      "cell_type": "code",
      "execution_count": null,
      "metadata": {
        "colab": {
          "base_uri": "https://localhost:8080/"
        },
        "id": "SiyphwjAQhvc",
        "outputId": "fc1d8df6-0dca-4f12-ad40-a19762597b8e"
      },
      "outputs": [
        {
          "output_type": "stream",
          "name": "stdout",
          "text": [
            "20\n",
            "2+3\n",
            "DAMN WOWW\n",
            "satyam\n",
            "satyamsatyamsatyamsatyamsatyam\n",
            "a b\n",
            "give a num\n"
          ]
        }
      ],
      "source": [
        "print(2+3*6)\n",
        "print(\"2+3\")\n",
        "word = \"DAMN\"\n",
        "word += \" WOWW\"\n",
        "print(word)\n",
        "word\n",
        "\n",
        "print(name:=\"satyam\") #wallrus operator\n",
        "print('satyam'*5)\n",
        "\n",
        "print('a','b',sep=\" \") #sep INBUILT fn to sep shit\n",
        "\n",
        "print(\"give a num\")\n",
        "\n"
      ]
    },
    {
      "cell_type": "code",
      "source": [
        "print(\"enter a num:\")\n",
        "num = input()\n",
        "print(\"number entered is, {}\".format(num))\n",
        "\n",
        "num = input(\"enter number\")\n",
        "print(\"number entered is, {}\".format(num))\n",
        "\n",
        "# It is also possible to use formatted strings to avoid using .format:\n",
        "name = input('What is your name? ')  # default message\n",
        "print(f'Hi, {name}')"
      ],
      "metadata": {
        "colab": {
          "base_uri": "https://localhost:8080/"
        },
        "id": "IQao3bicSM48",
        "outputId": "e7990b08-56c7-4c17-ff45-4264e57c5c96"
      },
      "execution_count": null,
      "outputs": [
        {
          "output_type": "stream",
          "name": "stdout",
          "text": [
            "enter number50\n",
            "number entered is, 50\n",
            "What is your name? sat\n",
            "Hi, sat\n"
          ]
        }
      ]
    },
    {
      "cell_type": "code",
      "source": [
        "len(\"satyam\")\n",
        "\n",
        "# Test of emptiness example:\n",
        "\n",
        "# >>> a = [1, 2, 3]\n",
        "\n",
        "# # bad\n",
        "# >>> if len(a) > 0:  # evaluates to True\n",
        "# ...     print(\"the list is not empty!\")\n",
        "# ...\n",
        "# # the list is not empty!\n",
        "\n",
        "# # good\n",
        "# >>> if a: # evaluates to True\n",
        "# ...     print(\"the list is not empty!\")\n",
        "# ...\n",
        "# # the list is not empty!"
      ],
      "metadata": {
        "colab": {
          "base_uri": "https://localhost:8080/"
        },
        "id": "0sDElmVhSUQM",
        "outputId": "a0396961-eb91-45c1-a13b-4c6080f4253c"
      },
      "execution_count": null,
      "outputs": [
        {
          "output_type": "execute_result",
          "data": {
            "text/plain": [
              "6"
            ]
          },
          "metadata": {},
          "execution_count": 9
        }
      ]
    },
    {
      "cell_type": "code",
      "source": [
        "# STR FLOAT INT FUNCTIONS\n",
        "str(29)\n",
        "float(\"3\")\n",
        "int(5.3)\n",
        "str(400)"
      ],
      "metadata": {
        "colab": {
          "base_uri": "https://localhost:8080/",
          "height": 35
        },
        "id": "B3G8Y9KxSitP",
        "outputId": "e1d87c54-e972-4475-e4c5-e01bc6d7ed7a"
      },
      "execution_count": null,
      "outputs": [
        {
          "output_type": "execute_result",
          "data": {
            "text/plain": [
              "'400'"
            ],
            "application/vnd.google.colaboratory.intrinsic+json": {
              "type": "string"
            }
          },
          "metadata": {},
          "execution_count": 13
        }
      ]
    },
    {
      "cell_type": "code",
      "source": [
        "max(100,200,300)\n",
        "min(200,300,400)\n",
        "\n",
        "w = oct(int(200.30)) #octal stringer\n",
        "type(w)"
      ],
      "metadata": {
        "id": "dC9tORzLSvAR",
        "colab": {
          "base_uri": "https://localhost:8080/"
        },
        "outputId": "7a598928-b090-421d-ac35-c01066862482"
      },
      "execution_count": null,
      "outputs": [
        {
          "output_type": "execute_result",
          "data": {
            "text/plain": [
              "str"
            ]
          },
          "metadata": {},
          "execution_count": 21
        }
      ]
    },
    {
      "cell_type": "code",
      "source": [
        "(5>10) or (10>5)\n",
        "(5>10) and (10>5)\n",
        "2 + 2 == 4 and not 2 + 2 == 5 and 2 * 2 == 2 + 2\n",
        "\n",
        "name = \"dam\"\n",
        "\n",
        "if name == \"dam\":\n",
        "  print(\"YOOO DAMNNN!\")\n",
        "\n",
        "name = \"ez\"\n",
        "\n",
        "if name == \"shar\":\n",
        "  print(\"YOOO SHARR!\")\n",
        "elif name == \"ez\":\n",
        "  print(\"YOOO EZ\")"
      ],
      "metadata": {
        "colab": {
          "base_uri": "https://localhost:8080/"
        },
        "id": "qqAOaFk0WcDH",
        "outputId": "fb485b20-6238-4553-d498-5082009c1f2b"
      },
      "execution_count": null,
      "outputs": [
        {
          "output_type": "stream",
          "name": "stdout",
          "text": [
            "YOOO DAMNNN!\n",
            "YOOO EZ\n"
          ]
        }
      ]
    },
    {
      "cell_type": "code",
      "source": [
        "#ternary\n",
        "#<expression1> if <condition> else <expression2>\n",
        "\n",
        "# age = input(\"enter your age:\") WONT WORK COZ WE COMPARING THEN STRING WITH INT\n",
        "age = int(input(\"enter your age:\"))\n",
        "print(age)\n",
        "\n",
        "if age < 18:\n",
        "  print(\"kiddo\")\n",
        "else:\n",
        "  print(\"bigboy\")"
      ],
      "metadata": {
        "id": "3H6R9ym5m8sL",
        "colab": {
          "base_uri": "https://localhost:8080/"
        },
        "outputId": "a6ff03fe-aa25-48a1-e38d-a5ef090a858f"
      },
      "execution_count": null,
      "outputs": [
        {
          "output_type": "stream",
          "name": "stdout",
          "text": [
            "enter your age:20\n",
            "20\n",
            "bigboy\n"
          ]
        }
      ]
    },
    {
      "cell_type": "code",
      "source": [
        "age = 1\n",
        "while age <= 5:\n",
        "  print(\"man\")\n",
        "  age += 1\n",
        "\n",
        "while True:\n",
        "  name = input(\"enter ur namne\")\n",
        "  if name == 'sat':\n",
        "    break\n",
        "\n",
        "print(\"bye\")"
      ],
      "metadata": {
        "colab": {
          "base_uri": "https://localhost:8080/"
        },
        "id": "ej9YRrJsc279",
        "outputId": "140d316c-00e1-4035-e5d2-262ff5299358"
      },
      "execution_count": null,
      "outputs": [
        {
          "output_type": "stream",
          "name": "stdout",
          "text": [
            "man\n",
            "man\n",
            "man\n",
            "man\n",
            "man\n",
            "enter ur namnesat\n",
            "bye\n"
          ]
        }
      ]
    },
    {
      "cell_type": "code",
      "source": [
        "while True:\n",
        "     name = input('Who are you? ')\n",
        "     if name != 'Joe':\n",
        "         continue\n",
        "     password = input('Password? (It is a fish.): ')\n",
        "     if password == 'swordfish':\n",
        "        break\n",
        "print(\"ACCESS GIVEN\")"
      ],
      "metadata": {
        "colab": {
          "base_uri": "https://localhost:8080/"
        },
        "id": "MxYX4Dp3dPEm",
        "outputId": "4c13a1a2-85ab-4823-f25b-c465e96f387c"
      },
      "execution_count": null,
      "outputs": [
        {
          "output_type": "stream",
          "name": "stdout",
          "text": [
            "Who are you? joe\n",
            "Who are you? s\n",
            "Who are you? Joe\n",
            "Password? (It is a fish.): swordfish\n",
            "ACCESS GIVEN\n"
          ]
        }
      ]
    },
    {
      "cell_type": "code",
      "source": [
        "animals = [\"cat\",\"rat\",\"dogs\",\"lions\"]\n",
        "for animals in animals:\n",
        "  print(animals)\n",
        "\n",
        "print(\"\")\n",
        "\n",
        "for i in range(10):\n",
        "  print(f\"this is iteration {i}\")"
      ],
      "metadata": {
        "colab": {
          "base_uri": "https://localhost:8080/"
        },
        "id": "Oi5F7l-bd4mN",
        "outputId": "8a99b687-4447-41d9-a690-d0553335be62"
      },
      "execution_count": null,
      "outputs": [
        {
          "output_type": "stream",
          "name": "stdout",
          "text": [
            "cat\n",
            "rat\n",
            "dogs\n",
            "lions\n",
            "\n",
            "this is iteration 0\n",
            "this is iteration 1\n",
            "this is iteration 2\n",
            "this is iteration 3\n",
            "this is iteration 4\n",
            "this is iteration 5\n",
            "this is iteration 6\n",
            "this is iteration 7\n",
            "this is iteration 8\n",
            "this is iteration 9\n"
          ]
        }
      ]
    },
    {
      "cell_type": "code",
      "source": [
        "def name(name):\n",
        "  print(f\"hello {name}\")\n",
        "\n",
        "name(\"satyam\")"
      ],
      "metadata": {
        "colab": {
          "base_uri": "https://localhost:8080/"
        },
        "id": "qH8gDgoGeC0s",
        "outputId": "fc08be49-e859-4214-fd7a-6cc12a16fd17"
      },
      "execution_count": null,
      "outputs": [
        {
          "output_type": "stream",
          "name": "stdout",
          "text": [
            "hello satyam\n"
          ]
        }
      ]
    },
    {
      "cell_type": "markdown",
      "source": [],
      "metadata": {
        "id": "eaEVHuyAjKwC"
      }
    },
    {
      "cell_type": "code",
      "source": [
        "def sayhi(name, greetings):\n",
        "  print(f\"{greetings}, {name}\")\n",
        "\n",
        "sayhi(\"Satyam\",\"HIIIIIIII\")\n",
        "\n",
        "def sum2(num1,num2):\n",
        "  return num1+num2\n",
        "\n",
        "sum2(10,20)\n",
        "\n",
        "res = sum2(100000,1)\n",
        "print(res)"
      ],
      "metadata": {
        "colab": {
          "base_uri": "https://localhost:8080/"
        },
        "id": "jOTcdXTjgj2A",
        "outputId": "f371f8bc-3684-4b7e-b43f-a6c315fee7ad"
      },
      "execution_count": null,
      "outputs": [
        {
          "output_type": "stream",
          "name": "stdout",
          "text": [
            "HIIIIIIII, Satyam\n",
            "100001\n"
          ]
        }
      ]
    },
    {
      "cell_type": "markdown",
      "source": [
        "# LISTS"
      ],
      "metadata": {
        "id": "4v_f_7E5rrXX"
      }
    },
    {
      "cell_type": "code",
      "source": [
        "#LISTS\n",
        "furniture = ['table', 'chair', 'rack', 'shelf']\n",
        "furniture[0]\n",
        "furniture[-1] #piche se start hoing\n",
        "furniture[1:3] #0th indexing hai python\n",
        "len(furniture)\n",
        "\n",
        "furniture[1] = \"boat\" #works w negative indexs aswell\n",
        "furniture\n",
        "\n",
        "# concat + repetitions work asw\n",
        "[1, 2, 3] + ['A', 'B', 'C']\n",
        "[1, 2, 3, 'A', 'B', 'C']\n",
        "\n",
        "['X', 'Y', 'Z'] * 3\n",
        "['X', 'Y', 'Z', 'X', 'Y', 'Z', 'X', 'Y', 'Z']\n",
        "\n",
        "# FOR LOOPS USING LISTS\n",
        "furniture = ['table', 'chair', 'rack', 'shelf']\n",
        "\n",
        "# for i in furniture:\n",
        "#   print(i)\n",
        "\n",
        "# index in a loop with enumerate()\n",
        "for index, item in enumerate(furniture):\n",
        "  print(f\"index {index} - item is : {item}\")\n",
        "\n",
        "# LOOP IN MULTIPLE LISTS WITH ZIP()\n",
        "furniture = ['table', 'chair', 'rack', 'shelf']\n",
        "price = [100, 50, 80, 40]\n",
        "\n",
        "for item, amount in zip(furniture,price):\n",
        "  print(f\"Item {item} costs around ${amount}\")\n",
        "\n",
        "# in and not in operators\n",
        "\"rack\" in furniture\n",
        "\"bed\" not in furniture\n",
        "\"bed\" in furniture\n",
        "\n",
        "# INDEXING METHODS\n",
        "furniture.index(\"shelf\")\n",
        "\n",
        "# multiple assignment thingy\n",
        "a,b = \"chair\", \"table\"\n",
        "a,b = b,a\n",
        "print(a)\n",
        "\n",
        "print(b)\n",
        "\n",
        "\n",
        "# ADDING REMOVING SORTING ETC VALUES IN A LIST\n",
        "# append()\n",
        "fur = ['table', 'chair', 'rack', 'shelf']\n",
        "fur.append(\"BED\")\n",
        "fur\n",
        "\n",
        "#inset() - at a given POS\n",
        "fur.insert(2,\"sofa\")\n",
        "fur\n",
        "\n",
        "#del()\n",
        "del fur[3] #removes at 2nd index ie 3rd wala in list\n",
        "fur\n",
        "del fur[3]\n",
        "fur\n",
        "\n",
        "#remove() using actual name\n",
        "fur.remove(\"BED\")\n",
        "fur\n",
        "\n",
        "#pop() remove and return last item of the list\n",
        "animals = ['cat', 'bat', 'rat', 'elephant']\n",
        "animals.pop()\n",
        "animals\n",
        "animals.pop(1)\n",
        "animals\n",
        "\n",
        "#sort()\n",
        "num = [2,5,6,1.5,-10,-20]\n",
        "num.sort()\n",
        "num\n",
        "\n",
        "furniture = ['table', 'chair', 'rack', 'shelf']\n",
        "furniture.sort()\n",
        "furniture\n",
        "\n",
        "#sort in reverse using (reverse=True)\n",
        "furniture.sort(reverse=True)\n",
        "furniture\n",
        "\n",
        "# alphabetical sort w str.lower\n",
        "lett = ['a', 'z', 'A', 'Z'] # will return list with a, A, z, Z\n",
        "lett.sort(key=str.lower)\n",
        "lett\n",
        "\n",
        "# using 'sorted' inbuilt operator\n",
        "sorted(furniture)"
      ],
      "metadata": {
        "colab": {
          "base_uri": "https://localhost:8080/"
        },
        "id": "j7GQpPtxiKTK",
        "outputId": "0a8f2ef0-4769-46ab-e296-836e12f84bc2"
      },
      "execution_count": null,
      "outputs": [
        {
          "output_type": "stream",
          "name": "stdout",
          "text": [
            "index 0 - item is : table\n",
            "index 1 - item is : chair\n",
            "index 2 - item is : rack\n",
            "index 3 - item is : shelf\n",
            "Item table costs around $100\n",
            "Item chair costs around $50\n",
            "Item rack costs around $80\n",
            "Item shelf costs around $40\n",
            "table\n",
            "chair\n"
          ]
        },
        {
          "output_type": "execute_result",
          "data": {
            "text/plain": [
              "['chair', 'rack', 'shelf', 'table']"
            ]
          },
          "metadata": {},
          "execution_count": 72
        }
      ]
    },
    {
      "cell_type": "code",
      "source": [],
      "metadata": {
        "id": "BCmSeACAsrXS"
      },
      "execution_count": null,
      "outputs": []
    },
    {
      "cell_type": "markdown",
      "source": [
        "# TUPLES\n",
        "\n",
        "**The key difference between tuples and lists is that, while tuples are immutable objects, lists are mutable. This means that tuples cannot be changed while the lists can be modified. Tuples are more memory efficient than the lists.**\n",
        "\n",
        "\n"
      ],
      "metadata": {
        "id": "dvDlb95JrnLf"
      }
    },
    {
      "cell_type": "code",
      "source": [
        "furniture = ('tables','chair','rack','shelf')\n",
        "furniture[0]\n",
        "furniture[1:3]\n",
        "len(furniture)\n",
        "#above shit is similar to lists\n",
        "\n",
        "# DIFFERENCE IS TUPLES ARE ****IMMUTABLE****\n",
        "\n",
        "#Converting between list() and tuple()\n",
        "tuple(['cat', 'dog', 5])\n",
        "# ('cat', 'dog', 5)\n",
        "\n",
        "list(('cat', 'dog', 5))\n",
        "# ['cat', 'dog', 5]\n",
        "\n",
        "list('hello')\n",
        "# ['h', 'e', 'l', 'l', 'o']"
      ],
      "metadata": {
        "colab": {
          "base_uri": "https://localhost:8080/"
        },
        "id": "dMbmyJD0nGbx",
        "outputId": "27465004-fabd-49c5-adef-9ff28646a56d"
      },
      "execution_count": null,
      "outputs": [
        {
          "output_type": "execute_result",
          "data": {
            "text/plain": [
              "['h', 'e', 'l', 'l', 'o']"
            ]
          },
          "metadata": {},
          "execution_count": 74
        }
      ]
    },
    {
      "cell_type": "markdown",
      "source": [
        "# DICTONARIES\n",
        "**a dictionary is an ordered collection of key: value pairs.**\n",
        "\n"
      ],
      "metadata": {
        "id": "npMJ-Riis3aq"
      }
    },
    {
      "cell_type": "code",
      "source": [
        "# example dict\n",
        "cat = {\n",
        "    'size': 'big',\n",
        "    'color': 'white',\n",
        "    'disposition': \"LOUDAF\"\n",
        "}\n",
        "print(cat)\n",
        "cat\n",
        "\n",
        "# add a key:value using subscirpt operator []\n",
        "cat = {\n",
        "    'size': 'big',\n",
        "    'color': 'white',\n",
        "    'disposition': \"LOUDAF\"\n",
        "}\n",
        "cat['ageinyrs'] = 100\n",
        "cat\n",
        "\n",
        "# get value using subscirpt operator []\n",
        "print(cat['ageinyrs'])\n",
        "# print(cat['name']) #will give Keyerror\n",
        "\n",
        "#  values() gives the values of the dictornary\n",
        "pet = {'color':'red', 'age':\"50\"}\n",
        "pet\n",
        "for value in pet.values():\n",
        "  print(value)\n",
        "\n",
        "# keys() gives the KEY of dicts\n",
        "# for key in pet.keys():\n",
        "#   print(key)\n",
        "\n",
        "\n",
        "pet = {'colorrr': 'red', 'age': 42}\n",
        "# for key in pet(): # WILL GIVE ERROR COZ DICT ARENT ****** CALLABLE ******\n",
        "#   print(key)\n",
        "\n",
        "for key in pet:\n",
        "  print(key)\n",
        "\n",
        "\n",
        "# items() prints items of dict as Tuple\n",
        "pet = {'colorrr': 'red', 'age': 42}\n",
        "# for item in pet.items():\n",
        "#   print(item)\n",
        "\n",
        "for key, value in pet.items():\n",
        "     print(f'Key: {key} Value: {value}') #printing w more strings\n",
        "\n",
        "\n",
        "# get () returns valueof item w given key, if DNE returns None\n",
        "wife = {'name': 'Rose', 'age': 33}\n",
        "f'wifey name is {wife.get(\"name\")}'\n",
        "f'Shes {wife.get(\"age\")} years old'\n",
        "\n",
        "\n",
        "\n",
        "# ADDING REMOVING SORTING ETC SHIT\n",
        "\n",
        "# base method\n",
        "wife = {'name': 'Rose', 'age': 33}\n",
        "if 'has_hair' not in wife:\n",
        "     wife['has_hair'] = False\n",
        "\n",
        "# setdefault to add item\n",
        "wife = {'name': 'Rose', 'age': 33}\n",
        "wife.setdefault('has_hair', True)\n",
        "wife\n",
        "# {'name': 'Rose', 'age': 33, 'has_hair': True}\n",
        "\n",
        "\n",
        "# POP() removes and returns item based on given key\n",
        "wife = {'name': 'Rose', 'age': 33, 'hair': 'brown'}\n",
        "wife.pop('age')\n",
        "wife\n",
        "\n",
        "# popitem() removes last item of dict\n",
        "wife = {'name': 'Rose', 'age': 33, 'hair': 'brown'}\n",
        "wife.popitem()\n",
        "wife\n",
        "\n",
        "# del() removes itemm based on given key (doesnt return like pop)\n",
        "wife = {'name': 'Rose', 'age': 33, 'hair': 'brown'}\n",
        "del wife['age']\n",
        "wife\n",
        "\n",
        "# clear() removes ALL ITEMS in dict\n",
        "wife = {'name': 'Rose', 'age': 33, 'hair': 'brown'}\n",
        "wife.clear()\n",
        "wife\n",
        "\n",
        "# checking keys/values in a dict\n",
        "person = {'name':'satyam', 'age':'20'}\n",
        "'skin' in person #false\n",
        "'age' in person #true\n",
        "'name' in person.keys() #true\n",
        "'satyam' in person.values() #true\n",
        "'21' in person.values() #false\n",
        "\n",
        "\n",
        "# PRETTY PRINTING (GOOD SHIT)\n",
        "import pprint\n",
        "wife = {'name': 'Rose', 'age': 33, 'has_hair': True, 'hair_color': 'brown', 'height': 1.6, 'eye_color': 'brown'}\n",
        "pprint.pprint(wife)\n",
        "\n",
        "# MERGE DICTS\n",
        "# >>> dict_a = {'a': 1, 'b': 2}\n",
        "# >>> dict_b = {'b': 3, 'c': 4}\n",
        "# >>> dict_c = {**dict_a, **dict_b}\n",
        "# >>> dict_c\n",
        "# # {'a': 1, 'b': 3, 'c': 4}\n",
        "\n"
      ],
      "metadata": {
        "colab": {
          "base_uri": "https://localhost:8080/"
        },
        "id": "xEe0b2K3r2eu",
        "outputId": "4c03970c-7441-4773-ecd6-d5a3c584633c"
      },
      "execution_count": null,
      "outputs": [
        {
          "output_type": "stream",
          "name": "stdout",
          "text": [
            "{'size': 'big', 'color': 'white', 'disposition': 'LOUDAF'}\n",
            "100\n",
            "red\n",
            "50\n",
            "colorrr\n",
            "age\n",
            "Key: colorrr Value: red\n",
            "Key: age Value: 42\n",
            "{'age': 33,\n",
            " 'eye_color': 'brown',\n",
            " 'hair_color': 'brown',\n",
            " 'has_hair': True,\n",
            " 'height': 1.6,\n",
            " 'name': 'Rose'}\n"
          ]
        }
      ]
    },
    {
      "cell_type": "markdown",
      "source": [
        "# SETS\n",
        "\n",
        "**A set is an unordered collection with no duplicate elements. Basic uses include membership testing and eliminating duplicate entries.**"
      ],
      "metadata": {
        "id": "12F2PcNU6bKd"
      }
    },
    {
      "cell_type": "code",
      "source": [
        "# 2 ways to create sets: using curly braces {} and built in functions set()\n",
        "s = {1,2,3,4}\n",
        "print(s)\n",
        "s = set([1,2,3,4,5])\n",
        "\n",
        "s = {} #will give dict instead of set\n",
        "\n",
        "# set auto removes dupes\n",
        "p = {1,2,1,3,3,4,2,1,5}\n",
        "p\n",
        "\n",
        "# ITS AN UNORDERED DATA TYPE - CANT BE INDEXED\n",
        "# p[0] will give Typeerror\n",
        "\n",
        "# set add update remove discard\n",
        "\n",
        "x = {1,2,1,3,3,4,2,1,5}\n",
        "x.add(6)\n",
        "x\n",
        "x.update([2,4,5,7,8,10,12]) #no dupes\n",
        "x\n",
        "x.discard(10)\n",
        "x\n",
        "\n",
        "# set union intersection setdiff symmetric_difference\n",
        "\n",
        "s1 = {1,2,3}\n",
        "s2 = {5,6,3}\n",
        "s3 = {3,4,5}\n",
        "s1.union(s2) # or s1/s2 anything\n",
        "s3.intersection(s2,s1) # will give comon in all of them\n",
        "s1.difference(s2) # unique to s1 but no in others\n",
        "s1.symmetric_difference(s2) # ALL ELEMENTS NOT COMMON IN THEM"
      ],
      "metadata": {
        "id": "WeQ4TihT6fR7",
        "colab": {
          "base_uri": "https://localhost:8080/"
        },
        "outputId": "797741c0-f3a6-486f-ec2a-f06716dda2c3"
      },
      "execution_count": null,
      "outputs": [
        {
          "output_type": "stream",
          "name": "stdout",
          "text": [
            "{1, 2, 3, 4}\n"
          ]
        },
        {
          "output_type": "execute_result",
          "data": {
            "text/plain": [
              "{1, 2, 5, 6}"
            ]
          },
          "metadata": {},
          "execution_count": 129
        }
      ]
    },
    {
      "cell_type": "markdown",
      "source": [
        "# COMPREHENSIONS\n"
      ],
      "metadata": {
        "id": "UDdI4DlQAxSq"
      }
    },
    {
      "cell_type": "code",
      "source": [
        "#List Comprehensions are a special kind of syntax that let us create lists out of other lists, and are incredibly useful when dealing with numbers and with one or two levels of nested for loops.\n",
        "\n",
        "# new list from existing one using For Loop\n",
        "names = ['Charles', 'Susan', 'Patrick', 'George']\n",
        "\n",
        "newlist = []\n",
        "for n in names:\n",
        "  newlist.append(n)\n",
        "\n",
        "newlist\n",
        "\n",
        "# using List Comprehension\n",
        "\n",
        "names = ['Charles', 'Susan', 'Patrick', 'George']\n",
        "newL = [n for n in names]\n",
        "newL\n",
        "\n",
        "n = [(a,b) for a in range (1,5) for b in range (1,4)]\n",
        "n\n",
        "\n",
        "# adding conditionals ANY SORT OF CONDITIONS using loop\n",
        "names = ['Charles', 'Susan', 'Patrick', 'George', 'Carol']\n",
        "\n",
        "newlist=[]\n",
        "for n in names:\n",
        "  if n.startswith('C'):\n",
        "    newlist.append(n)\n",
        "\n",
        "print(newlist)\n",
        "\n",
        "#same thing using list comprehention\n",
        "newlist = [n for n in names if n.startswith('C')]\n",
        "print(newlist)\n",
        "\n",
        "\n",
        "# Set comprehension\n",
        "b = {\"abc\", \"def\"}\n",
        "{s.upper() for s in b}\n",
        "{\"ABC\", \"DEF\"}\n",
        "\n",
        "# Dict comprehension\n",
        "c = {'name': 'Pooka', 'age': 5}\n",
        "{v: k for k, v in c.items()}\n",
        "{'Pooka': 'name', 5: 'age'}\n",
        "\n",
        "# A List comprehension can be generated from a dictionary:\n",
        "\n",
        "c = {'name': 'Pooka', 'age': 5}\n",
        "[\"{}:{}\".format(k.upper(), v) for k, v in c.items()]\n",
        "['NAME:Pooka', 'AGE:5']"
      ],
      "metadata": {
        "colab": {
          "base_uri": "https://localhost:8080/"
        },
        "id": "CUz5Kgg-AvjR",
        "outputId": "65438702-269f-4480-ef91-9c33e435de09"
      },
      "execution_count": null,
      "outputs": [
        {
          "output_type": "execute_result",
          "data": {
            "text/plain": [
              "[(1, 1),\n",
              " (1, 2),\n",
              " (1, 3),\n",
              " (2, 1),\n",
              " (2, 2),\n",
              " (2, 3),\n",
              " (3, 1),\n",
              " (3, 2),\n",
              " (3, 3),\n",
              " (4, 1),\n",
              " (4, 2),\n",
              " (4, 3)]"
            ]
          },
          "metadata": {},
          "execution_count": 135
        }
      ]
    },
    {
      "cell_type": "markdown",
      "source": [
        "# string manipulations and stuffs\n"
      ],
      "metadata": {
        "id": "7tWov9KkCsfX"
      }
    },
    {
      "cell_type": "code",
      "source": [
        "print(\"Hello there!\\nHow are you?\\nI\\'m doing fine.\")\n",
        "# raw striong\n",
        "print(r\"Hello there!\\nHow are you?\\nI\\'m doing fine.\")\n",
        "\n",
        "#multline string\n",
        "print(\n",
        "    \"\"\"Dear Alice,\n",
        "\n",
        "Eve's cat has been arrested for catnapping,\n",
        "cat burglary, and extortion.\n",
        "\n",
        "Sincerely,\n",
        "Bob\"\"\"\n",
        ")\n",
        "\n",
        "\n",
        "#indexing + slicing\n",
        "spam = \"hello world!\"\n",
        "spam[1]\n",
        "spam[-2]\n",
        "\n",
        "spam[0:10]\n",
        "spam[6:-1] # 'world'\n",
        "spam[:-1] # 'Hello world'\n",
        "spam[::-1] # '!dlrow olleH'\n",
        "\n",
        "# in and not in operators work the same and everywhere else probs\n",
        "\n",
        "# upper(), lower() and title()\n",
        "spam = \"hello world!\"\n",
        "spam.upper()\n",
        "spam.lower()\n",
        "spam.title() # 1st lets caps\n",
        "\n",
        "# isupper() and islower() gives True or False after string evaluations\n",
        "# isalpha() for only letters, isalnum() for letters + numbers\n",
        "# isdecimal() only of numbers\n",
        "# isspace() consists only of spaces, tabs and new-lines\n",
        "# ittitle() string consists of 1st let caps, others lowercase characters type shit\n",
        "\n",
        "#startswith() and endswith()\n",
        "#'Hello world!'.startswith('Hello')\n",
        "# True\n",
        "# 'abc123'.endswith('12')\n",
        "# False\n",
        "\n",
        "# join() and split()\n",
        "# takes all the items in an iterable, like a list, dictionary, tuple or set, and joins them into a string.\n",
        "\n",
        "\n",
        "# rjust(), ljust() and center() to adjust text to mid centre left right etc\n",
        "'Hello'.rjust(10)\n",
        "'World'.ljust(20)\n",
        "'Hey'.center(20)\n",
        "\n",
        "# removing whitespace with strip(), rstrip(), and lstrip()'\n",
        "spam = '    Hello World     '\n",
        "spam.strip()\n",
        "# 'Hello World'  spam.l/r strip will remove the whitespace there\n",
        "\n",
        "spam = 'SpamSpamBaconSpamEggsSpamSpam'\n",
        "spam.strip('ampS')\n",
        "# 'BaconSpamEggs'\n",
        "\n",
        "# count method ahh\n",
        "sentence = 'one sheep two sheep three sheep four'\n",
        "sentence.count(\"sheep\")\n",
        "sentence.count('e', 7) #e count 7 chars after beginning\n",
        "\n",
        "# replace method\n",
        "# text = \"Hello, world!\"\n",
        "# text.replace(\"world!\", \"nubs\")\n",
        "# print(text)\n",
        "\n",
        "# ABOVE WONT WORK SINCE STRINGS ARE IMMUTABLE OBJECTS IN PYTHON SOOO\n",
        "\n",
        "text = \"Hello, world!\"\n",
        "text = text.replace(\"world!\", \"nubs\")\n",
        "print(text)\n"
      ],
      "metadata": {
        "colab": {
          "base_uri": "https://localhost:8080/"
        },
        "id": "sBuHOatcGnHT",
        "outputId": "05e55b9c-4912-4538-de2a-78c304d76f60"
      },
      "execution_count": null,
      "outputs": [
        {
          "output_type": "stream",
          "name": "stdout",
          "text": [
            "Hello there!\n",
            "How are you?\n",
            "I'm doing fine.\n",
            "Hello there!\\nHow are you?\\nI\\'m doing fine.\n",
            "Dear Alice,\n",
            "\n",
            "Eve's cat has been arrested for catnapping,\n",
            "cat burglary, and extortion.\n",
            "\n",
            "Sincerely,\n",
            "Bob\n",
            "Hello, nubs\n"
          ]
        }
      ]
    },
    {
      "cell_type": "code",
      "source": [
        "# STRING FORMMATING MAINLY I SUPPOSE\n",
        "#using str.format\n",
        "\n",
        "name = \"satyam\"\n",
        "age = \"20\"\n",
        "\n",
        "\"my name is {} and my age is {}\".format(name,age)\n",
        "\n",
        "#using F strings (FORMATTED STRING LITERALS)\n",
        "zname = \"shiv\"\n",
        "f\"hello {name}\" #hello satyam\n",
        "f\"hello {zname}\" #hello shiv\n",
        "\n",
        "# can do maths asw\n",
        "a=100\n",
        "b=200\n",
        "f\"sum of {a} and {b} is {a+b}\"\n",
        "\n",
        "# Multiline f-Strings\n",
        "name = \"satyam\"\n",
        "messages = \"20\"\n",
        "(\n",
        "    f\"hi, {name}. \"\n",
        "    f\"You have {messages} miscalls, \"\n",
        "    f\"from {zname}\"\n",
        ")\n"
      ],
      "metadata": {
        "id": "i0GJE1TlG9vC",
        "colab": {
          "base_uri": "https://localhost:8080/",
          "height": 35
        },
        "outputId": "d725ee35-3d76-464d-8111-ae166009617c"
      },
      "execution_count": null,
      "outputs": [
        {
          "output_type": "execute_result",
          "data": {
            "text/plain": [
              "'hi, satyam. You have 20 miscalls, from shiv'"
            ],
            "application/vnd.google.colaboratory.intrinsic+json": {
              "type": "string"
            }
          },
          "metadata": {},
          "execution_count": 160
        }
      ]
    },
    {
      "cell_type": "code",
      "source": [
        "#formatting digits\n",
        "\n",
        "# thousand seprator\n",
        "a = 10000000\n",
        "f\"{a:,}\"\n",
        "# '10,000,000'\n",
        "\n",
        "# rounding\n",
        "a = 3.1415926\n",
        "f\"{a:.2f}\"\n",
        "# '3.14'\n",
        "\n",
        "# percentager\n",
        "a = 0.816562\n",
        "f\"{a:.2%}\"\n",
        "# '81.66%'"
      ],
      "metadata": {
        "colab": {
          "base_uri": "https://localhost:8080/",
          "height": 35
        },
        "id": "BZuLxIzMyih9",
        "outputId": "0c65dc6a-6f76-4271-e36b-4d17fbee93bc"
      },
      "execution_count": null,
      "outputs": [
        {
          "output_type": "execute_result",
          "data": {
            "text/plain": [
              "'10,000,000'"
            ],
            "application/vnd.google.colaboratory.intrinsic+json": {
              "type": "string"
            }
          },
          "metadata": {},
          "execution_count": 161
        }
      ]
    },
    {
      "cell_type": "markdown",
      "source": [
        "![WhatsApp Image 2025-07-20 at 17.58.48_29e8669d.jpg](data:image/jpeg;base64,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)"
      ],
      "metadata": {
        "id": "GJTX_ehdzj_J"
      }
    },
    {
      "cell_type": "markdown",
      "source": [
        "# files, directory paths, R/W'ing files, JSON n YAML"
      ],
      "metadata": {
        "id": "er5i6BQ20hTi"
      }
    },
    {
      "cell_type": "code",
      "source": [
        "#pathlib for OOP style handling, os.path older one\n",
        "#joining paths is different on different OS like windows has \\ separtor while mac and linux has the forward slash (/)\n",
        "# can be handled via os.path.join or pathlib.Path.joinpath\n",
        "\n",
        "# using os.path.join on Windows:\n",
        "import os\n",
        "\n",
        "os.path.join(\"user\",\"bin\",\"spam\",\"random\")\n",
        "\n",
        "# using pathlib\n",
        "from pathlib import Path\n",
        "print(Path('usr') / 'bin' / 'spam') # (PERSONALLY RECOMMEND JUST STICKING WITH OS INSTEAD OF PATHLIB)\n",
        "\n",
        "# very useful to create different file paths under the same directory\n",
        "\n",
        "my_files = ['accs.txt', 'details.csv', 'invite.docx']\n",
        "for filename in my_files:\n",
        "  print(os.path.join(os.path.join('C:\\\\Users\\\\Senku', filename)))\n"
      ],
      "metadata": {
        "colab": {
          "base_uri": "https://localhost:8080/"
        },
        "id": "nLhFw2MK0ovF",
        "outputId": "f8cb4e45-9f1e-4a19-ab6d-ade75855c834"
      },
      "execution_count": null,
      "outputs": [
        {
          "output_type": "stream",
          "name": "stdout",
          "text": [
            "usr/bin/spam\n",
            "C:\\Users\\Senku/accs.txt\n",
            "C:\\Users\\Senku/details.csv\n",
            "C:\\Users\\Senku/invite.docx\n"
          ]
        }
      ]
    },
    {
      "cell_type": "code",
      "source": [
        "# current working directory\n",
        "import os\n",
        "\n",
        "os.getcwd()\n",
        "\n",
        "# os.chdir('C:\\\\Windows\\\\System32') to change it\n",
        "\n",
        "# creating new directories n stuff\n",
        "# os.makedirs('C:\\\\books\\\\ml\\\\deeplearning')\n",
        "\n",
        "# absolute path begins with root folder /// relative path is relative to programs current dir\n",
        "os.getcwd()\n",
        "\n",
        "os.path.abspath(\"..\")\n",
        "\n",
        "# relative path handling\n",
        "os.path.relpath('/etc/password', '/')\n",
        "# 'etc/password'"
      ],
      "metadata": {
        "colab": {
          "base_uri": "https://localhost:8080/",
          "height": 35
        },
        "id": "VzUDPGs_3JSw",
        "outputId": "8f473412-d1b1-4fdc-f66e-be9208b8ec4b"
      },
      "execution_count": null,
      "outputs": [
        {
          "output_type": "execute_result",
          "data": {
            "text/plain": [
              "'etc/passwd'"
            ],
            "application/vnd.google.colaboratory.intrinsic+json": {
              "type": "string"
            }
          },
          "metadata": {},
          "execution_count": 176
        }
      ]
    },
    {
      "cell_type": "code",
      "source": [
        "# PATH AND FILE VALIDITY CHECKING\n",
        "\n",
        "# checking if file/dir exists\n",
        "import os\n",
        "\n",
        "os.path.exists('.')\n",
        "os.path.exists('pybasic.ipynb')\n",
        "os.path.exists('randomshit')\n",
        "# true false false\n",
        "\n",
        "# get file size in bytes\n",
        "# os.path.getsize('C:\\\\Windows\\\\System32\\\\calc.exe')\n",
        "\n",
        "# listing directories\n",
        "os.getcwd()\n",
        "os.listdir('/content')\n",
        "# ['.config', 'C:\\\\books\\\\ml\\\\deeplearning', 'sample_data']\n",
        "\n"
      ],
      "metadata": {
        "colab": {
          "base_uri": "https://localhost:8080/"
        },
        "id": "fmR2TWBU3-Vh",
        "outputId": "ac9c4bc9-2170-4159-d6f9-ae5cf5669763"
      },
      "execution_count": null,
      "outputs": [
        {
          "output_type": "execute_result",
          "data": {
            "text/plain": [
              "['.config', 'C:\\\\books\\\\ml\\\\deeplearning', 'sample_data']"
            ]
          },
          "metadata": {},
          "execution_count": 186
        }
      ]
    },
    {
      "cell_type": "code",
      "source": [
        "# COPYING MOVING RENAMING DELETING FILES/FOLDERS ETC\n",
        "\n",
        "# \"shutil\" module for copying folders/files\n",
        "import shutil, os\n",
        "\n",
        "os.getcwd()\n",
        "# os.makedirs(\"/content/books\")\n",
        "os.chdir(\"/content/books\")\n",
        "print(\"Current directory:\", os.getcwd())\n",
        "\n",
        "os.makedirs(\"/content/sample_folder/subfolder\", exist_ok=True)\n",
        "\n",
        "# # Create some sample files\n",
        "# with open(\"/content/sample.txt\", \"w\") as f:\n",
        "#     f.write(\"Sample file content\")\n",
        "# with open(\"/content/sample_folder/data.txt\", \"w\") as f:\n",
        "#     f.write(\"Data file content\")\n",
        "\n",
        "# copying files and folders using shutils\n",
        "# shutils.copy copies files while .copytree does entire folders\n",
        "# shutil.copy('/content/sample.txt', '/content/books/sample_copy.txt')\n",
        "# shutil.copytree('/content/sample_folder', '/content/sample_folder_backup')\n",
        "\n",
        "\n",
        "# moving and renaming\n",
        "# normal move shutil.move('/content/books/sample_copy.txt', '/content/sample_folder')\n",
        "# move + rename shutil.move('/content/sample_folder/sample_copy.txt', '/content/sample_folder/renamed_file.txt')\n",
        "\n",
        "\n",
        "# DELETING FILES\n",
        "# single file delete using os.unlinkl\n",
        "# making folder empty using os.rmdir\n",
        "os.makedirs('/content/empty_folder', exist_ok=True)\n",
        "os.rmdir('/content/empty_folder')\n",
        "\n",
        "os.chdir(\"/content\")\n",
        "os.listdir('/content')\n",
        "\n",
        "#remove folder + all content\n",
        "# shutil.rmtree('/content/sample_folder_backup')\n",
        "os.listdir('/content')"
      ],
      "metadata": {
        "colab": {
          "base_uri": "https://localhost:8080/"
        },
        "id": "JPjYOYtW4mOa",
        "outputId": "a1c21f76-37b9-4582-a275-aa3ff4a10253"
      },
      "execution_count": null,
      "outputs": [
        {
          "output_type": "stream",
          "name": "stdout",
          "text": [
            "Current directory: /content/books\n"
          ]
        },
        {
          "output_type": "execute_result",
          "data": {
            "text/plain": [
              "['.config',\n",
              " 'sample.txt',\n",
              " 'sample_folder',\n",
              " 'books',\n",
              " 'C:\\\\books\\\\ml\\\\deeplearning',\n",
              " 'sample_data']"
            ]
          },
          "metadata": {},
          "execution_count": 207
        }
      ]
    },
    {
      "cell_type": "code",
      "source": [
        "# Reading and Writing Files (done with \"with\" statement)\n",
        "\n",
        "# opening reading files\n",
        "# read() reads entire file as single string\n",
        "# readlines() reads file into list of lines\n",
        "\n",
        "# writing to fles\n",
        "# w mode - overwrite file/create new one\n",
        "# a mode - append to end of existing file\n",
        "\n",
        "# Step 1: Write initial lines  with open willcreate the file too\n",
        "with open('file.txt', 'w') as f:\n",
        "    f.write(\"This is line one.\\n\")\n",
        "    f.write(\"Here is line two.\\n\")\n",
        "    f.write(\"And this is the third line.\\n\")\n",
        "\n",
        "# Step 2: Read and print\n",
        "with open('file.txt', 'r') as f:\n",
        "    print(\"Initial content:\")\n",
        "    print(f.read())\n",
        "\n",
        "# Step 3: Overwrite\n",
        "with open('file.txt', 'w') as f:\n",
        "    f.write(\"Text\")\n",
        "\n",
        "# Step 4: Append\n",
        "with open('file.txt', 'a') as f:\n",
        "    f.write(\"More text\")\n",
        "\n",
        "# Step 5: Final content\n",
        "with open('file.txt', 'r') as f:\n",
        "    print(\"\\nFinal content:\")\n",
        "    print(f.read())\n",
        "\n"
      ],
      "metadata": {
        "colab": {
          "base_uri": "https://localhost:8080/"
        },
        "id": "15vwMKLL_a6I",
        "outputId": "987016e2-8a0b-4375-a917-60dd39ff809d"
      },
      "execution_count": null,
      "outputs": [
        {
          "output_type": "stream",
          "name": "stdout",
          "text": [
            "Initial content:\n",
            "This is line one.\n",
            "Here is line two.\n",
            "And this is the third line.\n",
            "\n",
            "\n",
            "Final content:\n",
            "TextMore text\n"
          ]
        }
      ]
    },
    {
      "cell_type": "code",
      "source": [
        "# JSON + yamL\n",
        "\n",
        "# reading a json file\n",
        "# import json\n",
        "\n",
        "# with open(\"example.json\", \"r\") as f:\n",
        "#     data = json.load(f)\n",
        "# print(data)\n",
        "\n",
        "# writing a json file\n",
        "import json\n",
        "\n",
        "wife = {\"name\":\"Rose\",\"age\": 20}\n",
        "with open(\"example.json\", \"w\") as f:\n",
        "  json.dump(wife,f,indent=2) # writes but not prints it\n",
        "\n",
        "print(json.dumps(wife, indent=2))\n",
        "\n",
        "\n",
        "\n",
        "# YAML STUFF ---------------------------------\n",
        "# YAML is more readable and supports comments. Great for config files.\n",
        "\n",
        "# using Anyconfig (pip install anyconfig) - onelib for all config formats management\n",
        "\n",
        "import anyconfig\n",
        "\n",
        "# Load any config file (.json, .yaml, .toml, etc.)\n",
        "data = anyconfig.load(\"example.yaml\")\n",
        "print(\"Loaded config:\", data)\n"
      ],
      "metadata": {
        "colab": {
          "base_uri": "https://localhost:8080/",
          "height": 453
        },
        "id": "C-ZJzDT9An4f",
        "outputId": "cde95a35-ad65-4762-fc94-dd3a630948f7"
      },
      "execution_count": null,
      "outputs": [
        {
          "output_type": "stream",
          "name": "stdout",
          "text": [
            "{\n",
            "  \"name\": \"Rose\",\n",
            "  \"age\": 20\n",
            "}\n"
          ]
        },
        {
          "output_type": "error",
          "ename": "ModuleNotFoundError",
          "evalue": "No module named 'anyconfig'",
          "traceback": [
            "\u001b[0;31m---------------------------------------------------------------------------\u001b[0m",
            "\u001b[0;31mModuleNotFoundError\u001b[0m                       Traceback (most recent call last)",
            "\u001b[0;32m/tmp/ipython-input-228-3390676149.py\u001b[0m in \u001b[0;36m<cell line: 0>\u001b[0;34m()\u001b[0m\n\u001b[1;32m     24\u001b[0m \u001b[0;31m# using Anyconfig (pip install anyconfig) - onelib for all config formats management\u001b[0m\u001b[0;34m\u001b[0m\u001b[0;34m\u001b[0m\u001b[0m\n\u001b[1;32m     25\u001b[0m \u001b[0;34m\u001b[0m\u001b[0m\n\u001b[0;32m---> 26\u001b[0;31m \u001b[0;32mimport\u001b[0m \u001b[0manyconfig\u001b[0m\u001b[0;34m\u001b[0m\u001b[0;34m\u001b[0m\u001b[0m\n\u001b[0m\u001b[1;32m     27\u001b[0m \u001b[0;34m\u001b[0m\u001b[0m\n\u001b[1;32m     28\u001b[0m \u001b[0;31m# Load any config file (.json, .yaml, .toml, etc.)\u001b[0m\u001b[0;34m\u001b[0m\u001b[0;34m\u001b[0m\u001b[0m\n",
            "\u001b[0;31mModuleNotFoundError\u001b[0m: No module named 'anyconfig'",
            "",
            "\u001b[0;31m---------------------------------------------------------------------------\u001b[0;32m\nNOTE: If your import is failing due to a missing package, you can\nmanually install dependencies using either !pip or !apt.\n\nTo view examples of installing some common dependencies, click the\n\"Open Examples\" button below.\n\u001b[0;31m---------------------------------------------------------------------------\u001b[0m\n"
          ],
          "errorDetails": {
            "actions": [
              {
                "action": "open_url",
                "actionText": "Open Examples",
                "url": "/notebooks/snippets/importing_libraries.ipynb"
              }
            ]
          }
        }
      ]
    },
    {
      "cell_type": "markdown",
      "source": [
        "# Exception Handling, Debugging, Args/Kwargs, Decorators, and Context Managers"
      ],
      "metadata": {
        "id": "pEWnez8ZEzoq"
      }
    },
    {
      "cell_type": "code",
      "source": [
        "# basic done by python inbuilt exception handling\n",
        "\n",
        "def divide(dividend, divisor):\n",
        "  print(dividend / divisor)\n",
        "divide(dividend=10, divisor=5)\n",
        "# 2\n",
        "\n",
        "divide(dividend=10, divisor=0) # will give ZeroDivisionError\n",
        "\n",
        "# can be handled by us also using ****TRY AND EXCEPT**** keywords\n",
        "def divide(dividend, divisor):\n",
        "    try:\n",
        "        print(dividend / divisor)\n",
        "    except ZeroDivisionError:\n",
        "        print('You can not divide by 0')\n",
        "\n",
        "divide(dividend=10, divisor=5)\n",
        "#2\n",
        "divide(divident=10,divisor=0)\n",
        "#u cannot divide by zero\n",
        "\n",
        "\n",
        "# Finally code in exception handling\n",
        "# code inside \"finally\" part is always executeed, even if exception is raised or not\n",
        "\n",
        "def divide(dividend, divisor):\n",
        "    try:\n",
        "        print(dividend / divisor)\n",
        "    except ZeroDivisionError:\n",
        "        print('You can not divide by 0')\n",
        "    finally:\n",
        "        print('Execution finished')\n",
        "\n",
        "divide(dividend=10, divisor=5) #exec finished\n",
        "divide(dividend=10, divisor=0) #cannot divide by 0 + exec finished as output\n"
      ],
      "metadata": {
        "colab": {
          "base_uri": "https://localhost:8080/",
          "height": 349
        },
        "id": "MuaOwE0uEw_N",
        "outputId": "01ad7e41-89a6-4ac9-ae6a-8dd263345360"
      },
      "execution_count": null,
      "outputs": [
        {
          "output_type": "stream",
          "name": "stdout",
          "text": [
            "2.0\n"
          ]
        },
        {
          "output_type": "error",
          "ename": "ZeroDivisionError",
          "evalue": "division by zero",
          "traceback": [
            "\u001b[0;31m---------------------------------------------------------------------------\u001b[0m",
            "\u001b[0;31mZeroDivisionError\u001b[0m                         Traceback (most recent call last)",
            "\u001b[0;32m/tmp/ipython-input-230-1274829286.py\u001b[0m in \u001b[0;36m<cell line: 0>\u001b[0;34m()\u001b[0m\n\u001b[1;32m      6\u001b[0m \u001b[0;31m# 2\u001b[0m\u001b[0;34m\u001b[0m\u001b[0;34m\u001b[0m\u001b[0m\n\u001b[1;32m      7\u001b[0m \u001b[0;34m\u001b[0m\u001b[0m\n\u001b[0;32m----> 8\u001b[0;31m \u001b[0mdivide\u001b[0m\u001b[0;34m(\u001b[0m\u001b[0mdividend\u001b[0m\u001b[0;34m=\u001b[0m\u001b[0;36m10\u001b[0m\u001b[0;34m,\u001b[0m \u001b[0mdivisor\u001b[0m\u001b[0;34m=\u001b[0m\u001b[0;36m0\u001b[0m\u001b[0;34m)\u001b[0m \u001b[0;31m# will give ZeroDivisionError\u001b[0m\u001b[0;34m\u001b[0m\u001b[0;34m\u001b[0m\u001b[0m\n\u001b[0m\u001b[1;32m      9\u001b[0m \u001b[0;34m\u001b[0m\u001b[0m\n\u001b[1;32m     10\u001b[0m \u001b[0;31m# can be handled by us also using ****TRY AND EXCEPT**** keywords\u001b[0m\u001b[0;34m\u001b[0m\u001b[0;34m\u001b[0m\u001b[0m\n",
            "\u001b[0;32m/tmp/ipython-input-230-1274829286.py\u001b[0m in \u001b[0;36mdivide\u001b[0;34m(dividend, divisor)\u001b[0m\n\u001b[1;32m      2\u001b[0m \u001b[0;34m\u001b[0m\u001b[0m\n\u001b[1;32m      3\u001b[0m \u001b[0;32mdef\u001b[0m \u001b[0mdivide\u001b[0m\u001b[0;34m(\u001b[0m\u001b[0mdividend\u001b[0m\u001b[0;34m,\u001b[0m \u001b[0mdivisor\u001b[0m\u001b[0;34m)\u001b[0m\u001b[0;34m:\u001b[0m\u001b[0;34m\u001b[0m\u001b[0;34m\u001b[0m\u001b[0m\n\u001b[0;32m----> 4\u001b[0;31m   \u001b[0mprint\u001b[0m\u001b[0;34m(\u001b[0m\u001b[0mdividend\u001b[0m \u001b[0;34m/\u001b[0m \u001b[0mdivisor\u001b[0m\u001b[0;34m)\u001b[0m\u001b[0;34m\u001b[0m\u001b[0;34m\u001b[0m\u001b[0m\n\u001b[0m\u001b[1;32m      5\u001b[0m \u001b[0mdivide\u001b[0m\u001b[0;34m(\u001b[0m\u001b[0mdividend\u001b[0m\u001b[0;34m=\u001b[0m\u001b[0;36m10\u001b[0m\u001b[0;34m,\u001b[0m \u001b[0mdivisor\u001b[0m\u001b[0;34m=\u001b[0m\u001b[0;36m5\u001b[0m\u001b[0;34m)\u001b[0m\u001b[0;34m\u001b[0m\u001b[0;34m\u001b[0m\u001b[0m\n\u001b[1;32m      6\u001b[0m \u001b[0;31m# 2\u001b[0m\u001b[0;34m\u001b[0m\u001b[0;34m\u001b[0m\u001b[0m\n",
            "\u001b[0;31mZeroDivisionError\u001b[0m: division by zero"
          ]
        }
      ]
    },
    {
      "cell_type": "code",
      "source": [
        "# CUSTOM EXCEPTIONS\n",
        "# using Class and Exceptio as base\n",
        "\n",
        "class MyCustomExcep(Exception):\n",
        "  pass\n",
        "\n",
        "raise MyCustomExcep\n",
        "\n",
        "#can also be passed w/ custom message\n",
        "# raise MyCustomExcep(\"following msg will be displayed\")\n",
        "\n",
        "# handling it is same as others\n",
        "\n",
        "try:\n",
        "  raise MyCustomException('A custom message for my custom exception')\n",
        "except MyCustomException:\n",
        "  print('My custom exception was raised')"
      ],
      "metadata": {
        "colab": {
          "base_uri": "https://localhost:8080/",
          "height": 211
        },
        "id": "GKV92cS6IYOG",
        "outputId": "e3e4cccb-4760-4ba8-8357-f0a7ebef5413"
      },
      "execution_count": null,
      "outputs": [
        {
          "output_type": "error",
          "ename": "MyCustomExcep",
          "evalue": "",
          "traceback": [
            "\u001b[0;31m---------------------------------------------------------------------------\u001b[0m",
            "\u001b[0;31mMyCustomExcep\u001b[0m                             Traceback (most recent call last)",
            "\u001b[0;32m/tmp/ipython-input-232-2753791514.py\u001b[0m in \u001b[0;36m<cell line: 0>\u001b[0;34m()\u001b[0m\n\u001b[1;32m      5\u001b[0m   \u001b[0;32mpass\u001b[0m\u001b[0;34m\u001b[0m\u001b[0;34m\u001b[0m\u001b[0m\n\u001b[1;32m      6\u001b[0m \u001b[0;34m\u001b[0m\u001b[0m\n\u001b[0;32m----> 7\u001b[0;31m \u001b[0;32mraise\u001b[0m \u001b[0mMyCustomExcep\u001b[0m\u001b[0;34m\u001b[0m\u001b[0;34m\u001b[0m\u001b[0m\n\u001b[0m\u001b[1;32m      8\u001b[0m \u001b[0;34m\u001b[0m\u001b[0m\n\u001b[1;32m      9\u001b[0m \u001b[0;31m#can also be passed w/ custom message\u001b[0m\u001b[0;34m\u001b[0m\u001b[0;34m\u001b[0m\u001b[0m\n",
            "\u001b[0;31mMyCustomExcep\u001b[0m: "
          ]
        }
      ]
    },
    {
      "cell_type": "code",
      "source": [
        "# tracebacks as a string\n",
        "# used to log erros withotu crashing programs\n",
        "\n",
        "import traceback\n",
        "\n",
        "try:\n",
        "  raise Exception(\"SOMETHING WENT WRONG\")\n",
        "except:\n",
        "  #save full error traceback to a file txt\n",
        "  with open(\"errorInfo.txt\", \"w\") as f:\n",
        "        f.write(traceback.format_exc())\n",
        "\n",
        "  # print(\"Error info written to errorInfo.txt\")"
      ],
      "metadata": {
        "colab": {
          "base_uri": "https://localhost:8080/"
        },
        "id": "348_Z6HDI1Cs",
        "outputId": "7bf762e6-0a1d-4601-f09e-cf81777c7bf2"
      },
      "execution_count": null,
      "outputs": [
        {
          "output_type": "stream",
          "name": "stdout",
          "text": [
            "Error info written to errorInfo.txt\n"
          ]
        }
      ]
    },
    {
      "cell_type": "code",
      "source": [
        "# assertions\n",
        "\n",
        "#if an assert fails, your program should crash\n",
        "\n",
        "\n",
        "# used to catch bugs early\n",
        "# DONT use try except w assertions. (used for  sanity checks - ie to make sure your code isn’t doing something obviously wrong)\n",
        "\n",
        "status = \"open\"\n",
        "assert status == \"open\", \"Door should be open!\"\n",
        "# wont raise assert\n",
        "\n",
        "status = \"closed\"\n",
        "assert status == \"open\", \"Door should be open!\"  # AssertionError\n",
        "# WILL RAISE AND CRASH PROGRAM SINCE OBVIOUS ERROR AYA HAI"
      ],
      "metadata": {
        "colab": {
          "base_uri": "https://localhost:8080/",
          "height": 193
        },
        "id": "FvF9q3Y8Jz0x",
        "outputId": "71179dda-b32c-4038-f37b-ec95703d4d7d"
      },
      "execution_count": null,
      "outputs": [
        {
          "output_type": "error",
          "ename": "AssertionError",
          "evalue": "Door should be open!",
          "traceback": [
            "\u001b[0;31m---------------------------------------------------------------------------\u001b[0m",
            "\u001b[0;31mAssertionError\u001b[0m                            Traceback (most recent call last)",
            "\u001b[0;32m/tmp/ipython-input-237-2241903978.py\u001b[0m in \u001b[0;36m<cell line: 0>\u001b[0;34m()\u001b[0m\n\u001b[1;32m     12\u001b[0m \u001b[0;34m\u001b[0m\u001b[0m\n\u001b[1;32m     13\u001b[0m \u001b[0mstatus\u001b[0m \u001b[0;34m=\u001b[0m \u001b[0;34m\"closed\"\u001b[0m\u001b[0;34m\u001b[0m\u001b[0;34m\u001b[0m\u001b[0m\n\u001b[0;32m---> 14\u001b[0;31m \u001b[0;32massert\u001b[0m \u001b[0mstatus\u001b[0m \u001b[0;34m==\u001b[0m \u001b[0;34m\"open\"\u001b[0m\u001b[0;34m,\u001b[0m \u001b[0;34m\"Door should be open!\"\u001b[0m  \u001b[0;31m# AssertionError\u001b[0m\u001b[0;34m\u001b[0m\u001b[0;34m\u001b[0m\u001b[0m\n\u001b[0m\u001b[1;32m     15\u001b[0m \u001b[0;31m# WILL RAISE AND CRASH PROGRAM SINCE OBVIOUS ERROR AYA HAI\u001b[0m\u001b[0;34m\u001b[0m\u001b[0;34m\u001b[0m\u001b[0m\n",
            "\u001b[0;31mAssertionError\u001b[0m: Door should be open!"
          ]
        }
      ]
    },
    {
      "cell_type": "code",
      "source": [
        "# Logging Basics\n",
        "# helps to track code at each step (imp for debugging)\n",
        "import logging\n",
        "# Set up basic logging (DEBUG level shows everything)\n",
        "logging.basicConfig(level=logging.DEBUG, format=\"%(levelname)s - %(message)s\")\n",
        "\n",
        "logging.debug(\"Debug message\")\n",
        "logging.info(\"Info message\")\n",
        "logging.warning(\"Warning message\")\n",
        "logging.error(\"Error message\")\n",
        "logging.critical(\"Critical message\")\n",
        "\n",
        "# loggin in a function\n",
        "# Logging helps trace what's happening inside functions.\n",
        "\n",
        "import logging\n",
        "\n",
        "logging.basicConfig(level=logging.DEBUG, format=\"%(levelname)s - %(message)s\")\n",
        "\n",
        "def factorial(n):\n",
        "    logging.debug(f\"Start of factorial({n})\")\n",
        "    total = 1\n",
        "    for i in range(1, n + 1):\n",
        "        total *= i\n",
        "        logging.debug(f\"i = {i}, total = {total}\")\n",
        "    logging.debug(f\"End of factorial({n})\")\n",
        "    return total\n",
        "\n",
        "print(factorial(5))\n",
        "\n",
        "\n",
        "# DISABLING LOGGING\n",
        "# turn off logging when done debugging (instead of deleting em)\n",
        "import logging\n",
        "\n",
        "logging.basicConfig(level=logging.DEBUG, format=\"%(levelname)s - %(message)s\")\n",
        "\n",
        "logging.critical(\"This will show up\")\n",
        "logging.disable(logging.CRITICAL)  # Disables ALL messages from CRITICAL and below\n",
        "\n",
        "logging.critical(\"This will NOT show\")\n",
        "logging.error(\"Neither will this\")\n",
        "\n",
        "\n",
        "\n",
        "# logging to a file\n",
        "import logging\n",
        "\n",
        "# Log messages will go to myProgramLog.txt\n",
        "logging.basicConfig(filename=\"myProgramLog.txt\", level=logging.DEBUG, format=\"%(asctime)s - %(levelname)s - %(message)s\")\n",
        "\n",
        "logging.debug(\"Debug message to file\")\n",
        "logging.error(\"Error message to file\")\n",
        "\n",
        "# will save all the error logs after debugging into myprogramlog.txt file"
      ],
      "metadata": {
        "colab": {
          "base_uri": "https://localhost:8080/"
        },
        "id": "BB-1xKr_Kash",
        "outputId": "217403b3-83d2-47ef-a2db-d096df37c328"
      },
      "execution_count": null,
      "outputs": [
        {
          "output_type": "stream",
          "name": "stderr",
          "text": [
            "WARNING:root:Warning message\n",
            "ERROR:root:Error message\n",
            "CRITICAL:root:Critical message\n"
          ]
        }
      ]
    },
    {
      "cell_type": "code",
      "source": [
        "# *args and **kwargs\n",
        "# *args: Lets you pass any number of positional arguments to a function.\n",
        "# **kwargs: Lets you pass any number of keyword arguments (i.e., named parameters).\n",
        "\n",
        "# fn with both args and kwargs\n",
        "def demo_function(*args, **kwargs):\n",
        "    print(\"Positional args:\", args)\n",
        "    print(\"Keyword args:\", kwargs)\n",
        "\n",
        "# Try different ways to call it:\n",
        "demo_function(1, 2, 3, name=\"Alice\", age=30)\n",
        "\n",
        "\n",
        "# only using *args\n",
        "def show_args(*args):\n",
        "   print(f\"Received {len(args)} args: {args}\")\n",
        "\n",
        "show_args(\"apple\", \"banana\", \"cherry\")\n",
        "\n",
        "# only using **kwargs\n",
        "def show_kwargs(**kwargs):\n",
        "    print(f\"Received {len(kwargs)} keyword arguments: {kwargs}\")\n",
        "\n",
        "show_kwargs(fruit=\"apple\", color=\"red\", price=10)\n",
        "\n",
        "# kwargs is a dictionary of key-value pairs.\n",
        "\n",
        "# FN w no args\n",
        "def flexible_function(*args, **kwargs):\n",
        "    print(\"No problem if nothing is passed!\")\n",
        "flexible_function()\n",
        "\n",
        "\n",
        "# OUTPUTS AS FOLLOOW FOR EVERYTHING ABOVE\n",
        "# Positional args: (1, 2, 3)\n",
        "# Keyword args: {'name': 'Alice', 'age': 30}\n",
        "# Received 3 args: ('apple', 'banana', 'cherry')\n",
        "# Received 3 keyword arguments: {'fruit': 'apple', 'color': 'red', 'price': 10}\n",
        "# No problem if nothing is passed!\n",
        "\n",
        "\n",
        "# Using *args and **kwargs in Real Use\n",
        "def greet_users(greeting, *names, **options):\n",
        "    for name in names:\n",
        "        print(f\"{greeting}, {name}!\")\n",
        "    if options.get(\"emoji\"):\n",
        "        print(\"😊\" * len(names))\n",
        "\n",
        "greet_users(\"Hello\", \"Alice\", \"Bob\", emoji=True)\n",
        "\n",
        "# Hello, Alice!\n",
        "# Hello, Bob!\n",
        "# 😊😊"
      ],
      "metadata": {
        "colab": {
          "base_uri": "https://localhost:8080/"
        },
        "id": "FpyuTicIKnHd",
        "outputId": "d2dee3f9-10d1-49fa-bec7-72857bdbe071"
      },
      "execution_count": null,
      "outputs": [
        {
          "output_type": "stream",
          "name": "stdout",
          "text": [
            "Positional args: (1, 2, 3)\n",
            "Keyword args: {'name': 'Alice', 'age': 30}\n",
            "Received 3 args: ('apple', 'banana', 'cherry')\n",
            "Received 3 keyword arguments: {'fruit': 'apple', 'color': 'red', 'price': 10}\n",
            "No problem if nothing is passed!\n",
            "Hello, Alice!\n",
            "Hello, Bob!\n",
            "😊😊\n"
          ]
        }
      ]
    },
    {
      "cell_type": "code",
      "source": [
        "# DECORATORS\n",
        "# fn that wraps another fn to add extra behaviour\n",
        "\n",
        "# basic decorator\n",
        "def my_decorator(func):\n",
        "  def wrapper():\n",
        "    print(\"before the function\")\n",
        "    func()\n",
        "    print(\"after the function\")\n",
        "  return wrapper\n",
        "\n",
        "@my_decorator\n",
        "def greet():\n",
        "  print(\"hellow!\")\n",
        "greet()"
      ],
      "metadata": {
        "colab": {
          "base_uri": "https://localhost:8080/"
        },
        "id": "wAjc1GFgRPtd",
        "outputId": "b93cc4bd-b6e7-45d5-ffa7-f6244b2ad6d4"
      },
      "execution_count": null,
      "outputs": [
        {
          "output_type": "stream",
          "name": "stdout",
          "text": [
            "before the function\n",
            "hellow!\n",
            "after the function\n"
          ]
        }
      ]
    },
    {
      "cell_type": "code",
      "source": [
        "# Class Method Decorator (Simple Error Handler)\n",
        "class MyDecoratorClass:\n",
        "\n",
        "    def decorator_for_methods(method):\n",
        "        def wrapper(self):\n",
        "            try:\n",
        "                return method(self)\n",
        "            except Exception as e:\n",
        "                print(\"⚠️ Caught Exception:\", e)\n",
        "        return wrapper\n",
        "\n",
        "    def __init__(self, should_succeed):\n",
        "        self.should_succeed = should_succeed\n",
        "\n",
        "    @decorator_for_methods\n",
        "    def perform_action(self):\n",
        "        if self.should_succeed:\n",
        "            print(\"Action succeeded!\")\n",
        "        else:\n",
        "            raise Exception(\"Something went wrong.\")\n",
        "\n",
        "# Try both cases\n",
        "obj1 = MyDecoratorClass(True)\n",
        "obj1.perform_action()\n",
        "\n",
        "obj2 = MyDecoratorClass(False)\n",
        "obj2.perform_action()\n"
      ],
      "metadata": {
        "id": "wmlB2UbJR0LI"
      },
      "execution_count": null,
      "outputs": []
    },
    {
      "cell_type": "code",
      "source": [
        "# Class-Based Decorator (with state tracking)\n",
        "class MyDecoratorClass:\n",
        "\n",
        "    def decorator_for_methods(method):\n",
        "        def wrapper(self):\n",
        "            try:\n",
        "                return method(self)\n",
        "            except Exception as e:\n",
        "                print(\"⚠️ Caught Exception:\", e)\n",
        "        return wrapper\n",
        "\n",
        "    def __init__(self, should_succeed):\n",
        "        self.should_succeed = should_succeed\n",
        "\n",
        "    @decorator_for_methods\n",
        "    def perform_action(self):\n",
        "        if self.should_succeed:\n",
        "            print(\"Action succeeded!\")\n",
        "        else:\n",
        "            raise Exception(\"Something went wrong.\")\n",
        "\n",
        "# Try both cases\n",
        "obj1 = MyDecoratorClass(True)\n",
        "obj1.perform_action()\n",
        "\n",
        "obj2 = MyDecoratorClass(False)\n",
        "obj2.perform_action()\n"
      ],
      "metadata": {
        "id": "95Moi1tQR4NK"
      },
      "execution_count": null,
      "outputs": []
    },
    {
      "cell_type": "code",
      "source": [
        "#CONTEXT MANAGER\n",
        "# manages resoruces like file network connections,etc\n",
        "# handles setup (__enter__) and cleanup (__exit__)\n",
        "\n",
        "# builtin context manager (with)\n",
        "with open(\"example.txt\", \"w\") as file:\n",
        "    file.write(\"Hello World!\")\n",
        "# file auto closed after the block\n",
        "\n",
        "import contextlib\n",
        "\n",
        "@contextlib.contextmanager\n",
        "def custom_manager(x):\n",
        "    print(\"🔓 Enter\")\n",
        "    yield x + 1\n",
        "    print(\"🔒 Exit\")\n",
        "\n",
        "with custom_manager(5) as value:\n",
        "    print(\"Value inside block:\", value) #yeild pauses content while block runs, value is what yeild returns\n",
        "\n",
        "# CLASs BASED ONE\n",
        "# You define __enter__ and __exit__ methods.\n",
        "\n",
        "class MyContext:\n",
        "    def __enter__(self):\n",
        "        print(\">> Entering context\")\n",
        "        return \"Some resource\"\n",
        "\n",
        "    def __exit__(self, exc_type, exc_value, traceback):\n",
        "        print(\"<< Exiting context\")\n",
        "\n",
        "with MyContext() as resource:\n",
        "    print(\"Using:\", resource)\n",
        "\n",
        "\n"
      ],
      "metadata": {
        "colab": {
          "base_uri": "https://localhost:8080/"
        },
        "id": "3kJ8aaM5R7f9",
        "outputId": "d9084583-543b-4996-b309-0bfa1483c183"
      },
      "execution_count": null,
      "outputs": [
        {
          "output_type": "stream",
          "name": "stdout",
          "text": [
            "🔓 Enter\n",
            "Value inside block: 6\n",
            "🔒 Exit\n",
            ">> Entering context\n",
            "Using: Some resource\n",
            "<< Exiting context\n"
          ]
        }
      ]
    },
    {
      "cell_type": "markdown",
      "source": [
        "# **OBJECT ORIENTED PROGRAMMING (OOPS)**"
      ],
      "metadata": {
        "id": "GK3uH78IpUIq"
      }
    },
    {
      "cell_type": "markdown",
      "source": [
        "![image.png](data:image/png;base64,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)\n",
        "\n",
        "> Add blockquote\n",
        "\n"
      ],
      "metadata": {
        "id": "mvEiYvxY_aP6"
      }
    },
    {
      "cell_type": "code",
      "source": [
        "class Microwave:\n",
        "  def __init__(self, brand: str, power_rating:str) -> None: # manages initilisation of the class\n",
        "    self.brand = brand\n",
        "    self.power_rating = power_rating\n",
        "\n",
        "# SELF MEANS It is a reference to the instance of the class itself.\n",
        "\n",
        "# smeg: Microwave = Microwave() #here we create a instance of the class\n",
        "# : Microwave is a type annotation and can be removed\n",
        "\n",
        "# below is a instance of the class\n",
        "smeg = Microwave(brand=\"Smeg\", power_rating=\"B\")\n",
        "print(smeg)\n",
        "print(smeg.brand)\n",
        "print(smeg.power_rating)\n",
        "\n",
        "bosch = Microwave(brand=\"Bosch\", power_rating=\"A++\")\n",
        "print(bosch)\n",
        "print(bosch.brand)\n",
        "print(bosch.power_rating)"
      ],
      "metadata": {
        "colab": {
          "base_uri": "https://localhost:8080/"
        },
        "id": "JwI-F5WzpY4N",
        "outputId": "2bdd7f27-4d6d-43f4-a17c-2fe263f72fb8"
      },
      "execution_count": 7,
      "outputs": [
        {
          "output_type": "stream",
          "name": "stdout",
          "text": [
            "<__main__.Microwave object at 0x7eb230b9fbd0>\n",
            "Smeg\n",
            "B\n",
            "<__main__.Microwave object at 0x7eb230b5d3d0>\n",
            "Bosch\n",
            "A++\n"
          ]
        }
      ]
    },
    {
      "cell_type": "code",
      "source": [
        "#METHODS ARE FUNCTIONS INSIDE CLASS\n",
        "\n",
        "\n",
        "#  ************ methods of a class should be defined at the class level, not inside them (indented inside) ************\n",
        "\n",
        "\n",
        "class Microwave:\n",
        "  def __init__(self, brand: str, power_rating:str) -> None: # manages initilisation of the class\n",
        "    self.brand = brand\n",
        "    self.power_rating = power_rating\n",
        "    self.turned_on: bool = False # by default band rahega\n",
        "\n",
        "  def turn_on(self) -> None:\n",
        "    if self.turned_on:\n",
        "      print(f\"Microwave {self.brand} is already on\")\n",
        "    else:\n",
        "      self.turned_on = True\n",
        "      print(f\"Microwave {self.brand} is now turned on\")\n",
        "\n",
        "  def turn_off(self) -> None:\n",
        "    if self.turned_on:\n",
        "      self.turned_off = False\n",
        "      print(f\"Microwave {self.brand} is now turned off.\")\n",
        "    else:\n",
        "      print(f\"Microwave {self.brand} is already turned off.\")\n",
        "\n",
        "  def run(self, seconds: int) -> None:\n",
        "    if self.turned_on:\n",
        "      print(f\"Microwave [{self.brand}] running for {seconds} seconds.\")\n",
        "    else:\n",
        "      print(f\"turn on ur microwave first.....\")\n",
        "\n",
        "\n",
        "# DUNDER METHODS ARE THOSE WITH __ __\n",
        "\n",
        "\n",
        "  def __add__(self,other):\n",
        "    return f'{self.brand} + {other.brand}'\n",
        "\n",
        "  def __mul__(self,other):\n",
        "    return f'{self.brand} * {other.brand}'\n",
        "\n",
        "  def __str__(self):\n",
        "    return f'{self.brand} (Rating: {self.power_rating})' # what this does is makes our rating more readable as a proper string\n",
        "\n",
        "  def __repr__(self) -> str:\n",
        "    return f'Microwave(brand=\"{self.brand}\", power_rating=\"{self.power_rating}\")'\n",
        "\n",
        "    # str method returns something for basic useer, while repr method used at developer level to show important info\n",
        "\n",
        "#DUNDER METHODDS ARE REALLY IMPORTANT FOR VARIOOUS OPERATIONS\n",
        "#########################################\n",
        "\n",
        "smeg = Microwave(brand=\"Smeg\", power_rating=\"B\")\n",
        "smeg.turn_on()\n",
        "smeg.run(30)\n",
        "smeg.turn_off()\n",
        "smeg.run(10)\n",
        "\n",
        "bosch = Microwave(brand=\"Bosch\", power_rating=\"A++\")\\\n",
        "\n",
        "print(smeg+bosch)\n",
        "print(smeg*bosch)\n",
        "\n",
        "print(smeg) # will give Smeg (Rating: B)\n",
        "print(repr(smeg))\n"
      ],
      "metadata": {
        "colab": {
          "base_uri": "https://localhost:8080/"
        },
        "id": "e_25_ZYopvAS",
        "outputId": "e1bd1333-ffcf-46ac-8760-378137120dd8"
      },
      "execution_count": 22,
      "outputs": [
        {
          "output_type": "stream",
          "name": "stdout",
          "text": [
            "Microwave Smeg is now turned on\n",
            "Microwave [Smeg] running for 30 seconds.\n",
            "Microwave Smeg is now turned off.\n",
            "Microwave [Smeg] running for 10 seconds.\n",
            "Smeg + Bosch\n",
            "Smeg * Bosch\n",
            "Smeg (Rating: B)\n",
            "Microwave(brand=\"Smeg\", power_rating=\"B\")\n"
          ]
        }
      ]
    },
    {
      "cell_type": "markdown",
      "source": [
        "### **DATACLASSES IN PYTHON**\n",
        "\n",
        "**Use @dataclass to avoid boilerplate in classes**\n",
        "\n",
        "\n",
        "\n",
        ""
      ],
      "metadata": {
        "id": "6s3tgbd9vsX8"
      }
    },
    {
      "cell_type": "code",
      "source": [
        "from dataclasses import dataclass\n",
        "\n",
        "@dataclass\n",
        "class Book:\n",
        "    title: str\n",
        "    author: str\n",
        "    pages: int\n",
        "\n",
        "b = Book(\"1984\", \"Orwell\", 328)\n",
        "print(b.title)       # 1984\n",
        "print(b)             # Book(title='1984', author='Orwell', pages=328)\n"
      ],
      "metadata": {
        "id": "YcpAgrKCruHp"
      },
      "execution_count": null,
      "outputs": []
    },
    {
      "cell_type": "code",
      "source": [
        "# if __name__ == \"__main__\":\n",
        "# Used to run code only when the file is executed directly (not imported).\n",
        "\n",
        "def greet():\n",
        "    print(\"Hello!\")\n",
        "\n",
        "if __name__ == \"__main__\":\n",
        "    greet()\n",
        "\n",
        "# In Colab, you can still use it in cells, but it's more useful in .py scripts."
      ],
      "metadata": {
        "id": "fpj2Iu79v7Dv"
      },
      "execution_count": null,
      "outputs": []
    },
    {
      "cell_type": "code",
      "source": [
        "# VIRTUAL ENV (alreay know about it) = gpt info below -\n",
        "\n",
        "# Create virtual env\n",
        "python -m venv venv\n",
        "\n",
        "# Activate:\n",
        "# Windows:\n",
        "venv\\Scripts\\activate\n",
        "# Linux/macOS:\n",
        "source venv/bin/activate\n",
        "\n",
        "# Install packages\n",
        "pip install numpy\n",
        "\n",
        "# Deactivate\n",
        "deactivate\n",
        "\n",
        "# not needed on colab, everything is preassigned"
      ],
      "metadata": {
        "id": "8Y3kJ1_YwXGd"
      },
      "execution_count": 23,
      "outputs": []
    },
    {
      "cell_type": "code",
      "source": [
        "# more oop example\n",
        "#------------------------------------------------------------------\n",
        "from car import Car\n",
        "\n",
        "car_1 = Car(\"Chevy\",\"Corvette\",2021,\"blue\")\n",
        "car_2 = Car(\"Ford\",\"Mustang\",2022,\"red\")\n",
        "\n",
        "car_1.drive()\n",
        "car_2.stop()\n",
        "#------------------------------------------------------------------\n",
        "class Car:\n",
        "\n",
        "    def __init__(self,make,model,year,color):\n",
        "        self.make = make\n",
        "        self.model = model\n",
        "        self.year = year\n",
        "        self.color = color\n",
        "\n",
        "    def drive(self):\n",
        "        print(\"This \"+self.model+\" is driving\")\n",
        "\n",
        "    def stop(self):\n",
        "        print(\"This \"+self.model+\" is stopped\")"
      ],
      "metadata": {
        "id": "Q8qdxpg-wb-O"
      },
      "execution_count": null,
      "outputs": []
    },
    {
      "cell_type": "markdown",
      "source": [
        "# **ADD REGEX AND RELATED STUFFS HERE**"
      ],
      "metadata": {
        "id": "5uCtURvj_nJJ"
      }
    }
  ]
}